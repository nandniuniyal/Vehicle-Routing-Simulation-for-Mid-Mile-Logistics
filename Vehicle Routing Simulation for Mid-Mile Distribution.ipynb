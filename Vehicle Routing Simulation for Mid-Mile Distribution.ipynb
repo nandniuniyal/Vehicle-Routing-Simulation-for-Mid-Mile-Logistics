{
 "cells": [
  {
   "cell_type": "markdown",
   "metadata": {},
   "source": [
    "##### Youtube Video: https://www.youtube.com/watch?v=lOVZye9NEfI&t"
   ]
  },
  {
   "cell_type": "markdown",
   "metadata": {},
   "source": [
    "## Importing Libararies"
   ]
  },
  {
   "cell_type": "code",
   "execution_count": 1,
   "metadata": {
    "scrolled": false
   },
   "outputs": [],
   "source": [
    "import numpy as np\n",
    "import math\n",
    "import pandas as pd\n",
    "from datetime import datetime, timedelta, date\n",
    "from IPython.display import clear_output\n",
    "import matplotlib.pyplot as plt"
   ]
  },
  {
   "cell_type": "markdown",
   "metadata": {},
   "source": [
    "## Truck Types"
   ]
  },
  {
   "cell_type": "markdown",
   "metadata": {},
   "source": [
    "#### Trip_cost = A*x*^(1-n)\n",
    "\n",
    "##### A,n - Constant for Truck Type; \n",
    "##### x - Trip Distance"
   ]
  },
  {
   "cell_type": "code",
   "execution_count": 2,
   "metadata": {},
   "outputs": [
    {
     "name": "stdout",
     "output_type": "stream",
     "text": [
      "\n",
      " max_truck_capacity = 15 \n",
      "\n"
     ]
    },
    {
     "data": {
      "text/plain": [
       "array([['D_22_Feet_truck', '15', '668.39', '0.38'],\n",
       "       ['C_19_Feet_truck', '7', '382.15', '0.343'],\n",
       "       ['B_17_Feet_truck', '4', '292.94', '0.316'],\n",
       "       ['A_14_Feet_truck', '3', '251.45', '0.315']], dtype='<U15')"
      ]
     },
     "execution_count": 2,
     "metadata": {},
     "output_type": "execute_result"
    }
   ],
   "source": [
    "# [Truck Name, Truck capacity in Tonns, A , n]\n",
    "\n",
    "Truck_list = [[\"A_14_Feet_truck\", 3, 251.45, 0.315],\n",
    "              [\"B_17_Feet_truck\", 4, 292.94, 0.316],\n",
    "              [\"C_19_Feet_truck\", 7, 382.15, 0.343],\n",
    "              [\"D_22_Feet_truck\", 15, 668.39, 0.38]]\n",
    "\n",
    "#Sorting truck in decending order of capacity for easy allocation logic\n",
    "\n",
    "sorter_guide = []\n",
    "max_truck_capacity = 0\n",
    "for i in range(len(Truck_list)):\n",
    "    sorter_guide.append([i,int(Truck_list[i][1])])\n",
    "    if int(Truck_list[i][1])>=max_truck_capacity:\n",
    "        max_truck_capacity = int(Truck_list[i][1])\n",
    "sorter_guide = np.array(sorter_guide)\n",
    "sorter_guide = sorter_guide[sorter_guide[:,1].argsort()[::-1]]\n",
    "sorter_temp = []\n",
    "for i in range(len(sorter_guide)):\n",
    "    sorter_temp.append(Truck_list[sorter_guide[i][0]])\n",
    "Truck_list = np.array(sorter_temp)   \n",
    "\n",
    "print('\\n',\"max_truck_capacity =\",max_truck_capacity,'\\n')\n",
    "Truck_list"
   ]
  },
  {
   "cell_type": "markdown",
   "metadata": {},
   "source": [
    "## Distance Calculator code"
   ]
  },
  {
   "cell_type": "code",
   "execution_count": 3,
   "metadata": {},
   "outputs": [],
   "source": [
    "from math import sin, cos, sqrt, atan2, radians\n",
    "\n",
    "def Distance_calculator(lat1,lon1,lat2,lon2):\n",
    "    # approximate radius of earth in km\n",
    "    R = 6373.0\n",
    "\n",
    "    lat1 = radians(lat1)\n",
    "    lon1 = radians(lon1)\n",
    "    lat2 = radians(lat2)\n",
    "    lon2 = radians(lon2)\n",
    "\n",
    "    dlon = lon2 - lon1\n",
    "    dlat = lat2 - lat1\n",
    "\n",
    "    a = sin(dlat / 2)**2 + cos(lat1) * cos(lat2) * sin(dlon / 2)**2\n",
    "    c = 2 * atan2(sqrt(a), sqrt(1 - a))\n",
    "\n",
    "    distance = R * c\n",
    "\n",
    "    #print(\"Result:\", distance)\n",
    "    #print(\"Should be:\", 278.546, \"km\")\n",
    "    \n",
    "    return distance"
   ]
  },
  {
   "cell_type": "markdown",
   "metadata": {},
   "source": [
    "## Clark Wright Savings Algorithm"
   ]
  },
  {
   "cell_type": "code",
   "execution_count": 4,
   "metadata": {},
   "outputs": [],
   "source": [
    "def CW_truck_assignment(locations_list,weights_list,vr_status):\n",
    "    \n",
    "    #distance_matrix = [[101.2*(abs(locations_list[i][0]-locations_list[j][0])+abs(locations_list[i][1]-locations_list[j][1])) for i in range(len(locations_list))] for j in range(len(locations_list))]\n",
    "    distance_matrix = [[Distance_calculator(locations_list[i][0],locations_list[i][1],locations_list[j][0],locations_list[i][1]) for i in range(len(locations_list))] for j in range(len(locations_list))]\n",
    "    distance_matrix = np.array(distance_matrix)\n",
    "    #print(distance_matrix)\n",
    "\n",
    "    cw_savings_matrix = [[(distance_matrix[0][i+1]+distance_matrix[0][j+1]-min(distance_matrix[0][i+1],distance_matrix[0][j+1])-distance_matrix[i+1][j+1]) for i in range(len(locations_list)-1)] for j in range(len(locations_list)-1)]\n",
    "    if vr_status == True:\n",
    "        savings_threshold = 0.42\n",
    "    else:\n",
    "        savings_threshold = 0.5\n",
    "\n",
    "    cw_savings_percent_matrix = [[((distance_matrix[0][i+1]+distance_matrix[0][j+1]-min(distance_matrix[0][i+1],distance_matrix[0][j+1])-distance_matrix[i+1][j+1])/(distance_matrix[0][i+1]+distance_matrix[0][j+1])) for i in range(len(locations_list)-1)] for j in range(len(locations_list)-1)]\n",
    "    \n",
    "    cw_savings_matrix = np.array(cw_savings_matrix)\n",
    "    for i in range(len(cw_savings_matrix)):\n",
    "        cw_savings_matrix[i][i]=0\n",
    "    #print(cw_savings_matrix)\n",
    "    for i in range(len(cw_savings_percent_matrix)):\n",
    "        cw_savings_percent_matrix[i][i]=0\n",
    "    #print(cw_savings_matrix)\n",
    "\n",
    "    cw_savings_list=[]\n",
    "\n",
    "    for i in range(len(cw_savings_matrix)):\n",
    "        j=0\n",
    "        while j<i:\n",
    "            if cw_savings_percent_matrix[i][j]>=savings_threshold:\n",
    "                cw_savings_list.append([i+1,j+1,cw_savings_matrix[i][j]])\n",
    "            j=j+1\n",
    "    cw_savings_list=np.array(cw_savings_list)\n",
    "    \n",
    "    if(len(cw_savings_list)>0):\n",
    "        cw_savings_list=cw_savings_list[cw_savings_list[:,2].argsort()[::-1]]\n",
    "    #print(cw_savings_list)\n",
    "\n",
    "    truck_assignment_cw_savings = []\n",
    "\n",
    "    for i in range(len(cw_savings_list)):\n",
    "        truck_assignment_cw_savings.append([cw_savings_list[i][0],cw_savings_list[i][1],cw_savings_list[i][2],0,0,0])\n",
    "\n",
    "    truck_assignment_cw_savings = np.array(truck_assignment_cw_savings)\n",
    "    #print('\\n',truck_assignment_cw_savings)\n",
    "\n",
    "    truck_assignment_matrix = np.zeros((len(weights_list), len(weights_list)))\n",
    "    truck_assigned_weights = np.zeros((len(weights_list)))\n",
    "    truck_assigned_savings = np.zeros((len(weights_list)))\n",
    "\n",
    "    #print('\\n',truck_assignment_matrix)\n",
    "\n",
    "    truck_count=0\n",
    "\n",
    "    for i in range(len(truck_assignment_cw_savings)):\n",
    "        #print(i)\n",
    "        loc1 = int(truck_assignment_cw_savings[i][0])\n",
    "        loc2 = int(truck_assignment_cw_savings[i][1])\n",
    "        truck_no =0\n",
    "\n",
    "        if truck_assignment_cw_savings[i][3]==0 and truck_assignment_cw_savings[i][4]==0:\n",
    "            #print(i+1,\" both\")\n",
    "            if weights_list[int(loc1-1)]+weights_list[int(loc2-1)]<=max_truck_capacity:\n",
    "                truck_no = truck_count\n",
    "                truck_count = truck_count+1\n",
    "                truck_assignment_matrix[int(loc1-1)][int(truck_no)]=1\n",
    "                truck_assignment_matrix[int(loc2-1)][int(truck_no)]=1\n",
    "                #truck_assigned_weights[int(truck_no)]=weights_list[int(loc1-1)]+weights_list[int(loc2-1)]\n",
    "                truck_assignment_cw_savings[i][3]=1\n",
    "                truck_assignment_cw_savings[i][4]=1\n",
    "                truck_assignment_cw_savings[i][5]=truck_no+1\n",
    "                truck_assigned_savings[int(truck_no)] = truck_assigned_savings[int(truck_no)]+truck_assignment_cw_savings[i][2]\n",
    "\n",
    "                for j in range(len(truck_assignment_cw_savings)):\n",
    "                    if truck_assignment_cw_savings[j][0]==loc1 or truck_assignment_cw_savings[j][1]==loc1:\n",
    "                        if truck_assignment_cw_savings[j][0]==loc1:\n",
    "                            truck_assignment_cw_savings[j][3]=1\n",
    "                            truck_assignment_cw_savings[j][5]=truck_no+1\n",
    "                        else:\n",
    "                            truck_assignment_cw_savings[j][4]=1\n",
    "                            truck_assignment_cw_savings[j][5]=truck_no+1\n",
    "\n",
    "                    if truck_assignment_cw_savings[j][0]==loc2 or truck_assignment_cw_savings[j][1]==loc2:\n",
    "                        if truck_assignment_cw_savings[j][0]==loc2:\n",
    "                            truck_assignment_cw_savings[j][3]=1\n",
    "                            truck_assignment_cw_savings[j][5]=truck_no+1\n",
    "                        else:\n",
    "                            truck_assignment_cw_savings[j][4]=1\n",
    "                            truck_assignment_cw_savings[j][5]=truck_no+1\n",
    "\n",
    "        elif truck_assignment_cw_savings[i][3]==1 and truck_assignment_cw_savings[i][4]==1:\n",
    "            null=0\n",
    "        elif truck_assignment_cw_savings[i][3]+truck_assignment_cw_savings[i][4]==1:\n",
    "            #print(i+1,\" only1\")\n",
    "            #print('\\n',truck_assignment_cw_savings,'\\n')\n",
    "            truck_no = truck_assignment_cw_savings[i][5]-1\n",
    "\n",
    "            if truck_assignment_cw_savings[i][3]==0:\n",
    "                loc1 = truck_assignment_cw_savings[i][0]\n",
    "            else:\n",
    "                loc1 = truck_assignment_cw_savings[i][1]\n",
    "\n",
    "\n",
    "            if truck_assigned_weights[int(truck_no)]+weights_list[int(loc1-1)]<=max_truck_capacity:\n",
    "                #print(\"test sucess at:\",i+1)\n",
    "                truck_assignment_matrix[int(loc1-1)][int(truck_no)]=1\n",
    "                #truck_assigned_weights[int(truck_no)]=truck_assigned_weights[int(truck_no)]+weights_list[int(loc1-1)]\n",
    "                truck_assignment_cw_savings[i][3]=1\n",
    "                truck_assignment_cw_savings[i][4]=1\n",
    "                truck_assigned_savings[int(truck_no)] = truck_assigned_savings[int(truck_no)]+truck_assignment_cw_savings[i][2]\n",
    "                for j in range(len(truck_assignment_cw_savings)):\n",
    "                    if truck_assignment_cw_savings[j][0]==loc1 or truck_assignment_cw_savings[j][1]==loc1:\n",
    "                        if truck_assignment_cw_savings[j][0]==loc1:\n",
    "                            truck_assignment_cw_savings[j][3]=1\n",
    "                            truck_assignment_cw_savings[j][5]=truck_no+1\n",
    "                        else:\n",
    "                            truck_assignment_cw_savings[j][4]=1\n",
    "                            truck_assignment_cw_savings[j][5]=truck_no+1\n",
    "\n",
    "        for i in range(truck_count):\n",
    "            current_wt = 0\n",
    "            for j in range(len(weights_list)):\n",
    "                current_wt = current_wt+truck_assignment_matrix[j][i]*weights_list[j]\n",
    "            truck_assigned_weights[i]=current_wt\n",
    "    \n",
    "    dummy_no = 0\n",
    "    for i in range(len(truck_assignment_matrix)):\n",
    "        assigned = 0\n",
    "        for j in range(len(weights_list)):\n",
    "            assigned = assigned + truck_assignment_matrix[i][j]\n",
    "        if assigned == 1:\n",
    "            #print(\"Location no:\",i+1,\"has been already assigned by CW savings\")\n",
    "            dummy_no =+ 1\n",
    "        elif assigned >1:\n",
    "            #print(\"Location no:\",i+1,\"some error has occurred\")\n",
    "            dummy_no =+ 1\n",
    "        elif assigned ==0:\n",
    "            #print(\"Location no:\",i+1,\"has not been assigned yet by CW savings\")\n",
    "            truck_assignment_matrix[i][int(truck_count)]=1\n",
    "            truck_count=truck_count+1\n",
    "\n",
    "    for i in range(truck_count):\n",
    "        current_wt = 0\n",
    "        for j in range(len(weights_list)):\n",
    "            current_wt = current_wt+truck_assignment_matrix[j][i]*weights_list[j]\n",
    "        truck_assigned_weights[i]=current_wt\n",
    "\n",
    "\n",
    "    truck_assigned_distances = np.zeros((len(weights_list)))\n",
    "\n",
    "    for i in range(len(truck_assigned_distances)):\n",
    "        for j in range(len(truck_assignment_matrix)):\n",
    "            if truck_assignment_matrix[j][i]==1:\n",
    "                truck_assigned_distances[i]=truck_assigned_distances[i]+distance_matrix[j+1][0]\n",
    "        truck_assigned_distances[i]=truck_assigned_distances[i]-truck_assigned_savings[i]\n",
    "\n",
    "    #print(2*'\\n',np.array(distance_matrix))\n",
    "    #print(2*'\\n',np.array(cw_savings_matrix))  \n",
    "    #print(2*'\\n',np.array(cw_savings_list))\n",
    "\n",
    "    #print('\\n',\"Assignment matrix:\",'\\n',truck_assignment_matrix,2*'\\n',\"Number of trucks:\",truck_count,2*'\\n',\"Truck weight matrix:\",truck_assigned_weights,2*'\\n',\"Truck savings:\",truck_assigned_savings,2*'\\n',\"Truck Distances:\",truck_assigned_distances)\n",
    "\n",
    "    truck_assigned_type = np.zeros((len(weights_list)))\n",
    "\n",
    "    for i in range(len(truck_assigned_distances)):\n",
    "        for j in range(len(Truck_list)):\n",
    "            if(truck_assigned_weights[i]>0 and truck_assigned_weights[i]<=int(Truck_list[j][1])):\n",
    "                truck_assigned_type[i] = j+1\n",
    "    \n",
    "    truck_type_counter = []\n",
    "    \n",
    "    for p in range(len(Truck_list)):\n",
    "        count = 0\n",
    "        for j in range(len(truck_assigned_type)):\n",
    "            if truck_assigned_type[j] == p+1:\n",
    "                count = count +1\n",
    "        truck_type_counter.append(count)\n",
    "\n",
    "    truck_costs = np.zeros((len(weights_list)))\n",
    "\n",
    "    for i in range(len(truck_costs)):\n",
    "        if truck_assigned_type[i]>0 and truck_assigned_distances[i]>0:\n",
    "            k=int(truck_assigned_type[i]-1)\n",
    "            truck_costs[i]=round(float(truck_assigned_distances[i])*float(Truck_list[k][2])*(float(truck_assigned_distances[i])**(float(Truck_list[k][3])*-1)),1)\n",
    "\n",
    "    #print('\\n',\"Truck costs:\",truck_costs)\n",
    "    \n",
    "    #print(cw_savings_percent_matrix[0])\n",
    "    return(sum(truck_costs),truck_count,truck_type_counter)"
   ]
  },
  {
   "cell_type": "markdown",
   "metadata": {},
   "source": [
    "## Importing Data"
   ]
  },
  {
   "cell_type": "code",
   "execution_count": 5,
   "metadata": {
    "scrolled": false
   },
   "outputs": [
    {
     "name": "stdout",
     "output_type": "stream",
     "text": [
      "           Latitude     Longitude        Weight\n",
      "count  10909.000000  10909.000000  10909.000000\n",
      "mean      21.433791     78.261483      7.345943\n",
      "std        5.596902      4.829720      3.634435\n",
      "min        8.170000     69.810000      3.200018\n",
      "25%       17.975600     74.550000      5.619656\n",
      "50%       22.249200     77.333300      6.273962\n",
      "75%       26.472500     80.275000      6.960793\n",
      "max       34.400000     93.950000     14.998702\n"
     ]
    },
    {
     "data": {
      "text/html": [
       "<div>\n",
       "<style scoped>\n",
       "    .dataframe tbody tr th:only-of-type {\n",
       "        vertical-align: middle;\n",
       "    }\n",
       "\n",
       "    .dataframe tbody tr th {\n",
       "        vertical-align: top;\n",
       "    }\n",
       "\n",
       "    .dataframe thead th {\n",
       "        text-align: right;\n",
       "    }\n",
       "</style>\n",
       "<table border=\"1\" class=\"dataframe\">\n",
       "  <thead>\n",
       "    <tr style=\"text-align: right;\">\n",
       "      <th></th>\n",
       "      <th>Date</th>\n",
       "      <th>City</th>\n",
       "      <th>Latitude</th>\n",
       "      <th>Longitude</th>\n",
       "      <th>Weight</th>\n",
       "    </tr>\n",
       "  </thead>\n",
       "  <tbody>\n",
       "    <tr>\n",
       "      <td>0</td>\n",
       "      <td>19-09-2020</td>\n",
       "      <td>Delhi</td>\n",
       "      <td>28.6600</td>\n",
       "      <td>77.2300</td>\n",
       "      <td>6.226701</td>\n",
       "    </tr>\n",
       "    <tr>\n",
       "      <td>1</td>\n",
       "      <td>25-05-2020</td>\n",
       "      <td>Ludhiana</td>\n",
       "      <td>30.9083</td>\n",
       "      <td>75.8486</td>\n",
       "      <td>6.678444</td>\n",
       "    </tr>\n",
       "    <tr>\n",
       "      <td>2</td>\n",
       "      <td>11-03-2020</td>\n",
       "      <td>Bilaspur</td>\n",
       "      <td>22.1500</td>\n",
       "      <td>82.0167</td>\n",
       "      <td>6.378018</td>\n",
       "    </tr>\n",
       "    <tr>\n",
       "      <td>3</td>\n",
       "      <td>07-10-2020</td>\n",
       "      <td>Surat</td>\n",
       "      <td>21.1700</td>\n",
       "      <td>72.8300</td>\n",
       "      <td>6.792099</td>\n",
       "    </tr>\n",
       "    <tr>\n",
       "      <td>4</td>\n",
       "      <td>08-06-2020</td>\n",
       "      <td>Ahmadnagar</td>\n",
       "      <td>19.0833</td>\n",
       "      <td>74.7333</td>\n",
       "      <td>5.799108</td>\n",
       "    </tr>\n",
       "    <tr>\n",
       "      <td>...</td>\n",
       "      <td>...</td>\n",
       "      <td>...</td>\n",
       "      <td>...</td>\n",
       "      <td>...</td>\n",
       "      <td>...</td>\n",
       "    </tr>\n",
       "    <tr>\n",
       "      <td>10904</td>\n",
       "      <td>15-10-2020</td>\n",
       "      <td>Delhi</td>\n",
       "      <td>28.6600</td>\n",
       "      <td>77.2300</td>\n",
       "      <td>12.902800</td>\n",
       "    </tr>\n",
       "    <tr>\n",
       "      <td>10905</td>\n",
       "      <td>22-03-2020</td>\n",
       "      <td>Bangalore</td>\n",
       "      <td>12.9699</td>\n",
       "      <td>77.5980</td>\n",
       "      <td>6.258130</td>\n",
       "    </tr>\n",
       "    <tr>\n",
       "      <td>10906</td>\n",
       "      <td>31-07-2020</td>\n",
       "      <td>Hyderabad</td>\n",
       "      <td>17.3667</td>\n",
       "      <td>78.4667</td>\n",
       "      <td>6.742273</td>\n",
       "    </tr>\n",
       "    <tr>\n",
       "      <td>10907</td>\n",
       "      <td>28-09-2020</td>\n",
       "      <td>Jammu</td>\n",
       "      <td>32.7333</td>\n",
       "      <td>74.8500</td>\n",
       "      <td>6.845631</td>\n",
       "    </tr>\n",
       "    <tr>\n",
       "      <td>10908</td>\n",
       "      <td>04-02-2020</td>\n",
       "      <td>Delhi</td>\n",
       "      <td>28.6600</td>\n",
       "      <td>77.2300</td>\n",
       "      <td>14.332587</td>\n",
       "    </tr>\n",
       "  </tbody>\n",
       "</table>\n",
       "<p>10909 rows × 5 columns</p>\n",
       "</div>"
      ],
      "text/plain": [
       "             Date        City  Latitude  Longitude     Weight\n",
       "0      19-09-2020       Delhi   28.6600    77.2300   6.226701\n",
       "1      25-05-2020    Ludhiana   30.9083    75.8486   6.678444\n",
       "2      11-03-2020    Bilaspur   22.1500    82.0167   6.378018\n",
       "3      07-10-2020       Surat   21.1700    72.8300   6.792099\n",
       "4      08-06-2020  Ahmadnagar   19.0833    74.7333   5.799108\n",
       "...           ...         ...       ...        ...        ...\n",
       "10904  15-10-2020       Delhi   28.6600    77.2300  12.902800\n",
       "10905  22-03-2020   Bangalore   12.9699    77.5980   6.258130\n",
       "10906  31-07-2020   Hyderabad   17.3667    78.4667   6.742273\n",
       "10907  28-09-2020       Jammu   32.7333    74.8500   6.845631\n",
       "10908  04-02-2020       Delhi   28.6600    77.2300  14.332587\n",
       "\n",
       "[10909 rows x 5 columns]"
      ]
     },
     "execution_count": 5,
     "metadata": {},
     "output_type": "execute_result"
    }
   ],
   "source": [
    "shipmentsdata = pd.read_csv(\"sampledatatruckrouting1.csv\")\n",
    "\n",
    "print(shipmentsdata.describe())\n",
    "shipmentsdata"
   ]
  },
  {
   "cell_type": "markdown",
   "metadata": {},
   "source": [
    "### Displaying weight Distributions"
   ]
  },
  {
   "cell_type": "code",
   "execution_count": 6,
   "metadata": {},
   "outputs": [
    {
     "data": {
      "text/html": [
       "<div>\n",
       "<style scoped>\n",
       "    .dataframe tbody tr th:only-of-type {\n",
       "        vertical-align: middle;\n",
       "    }\n",
       "\n",
       "    .dataframe tbody tr th {\n",
       "        vertical-align: top;\n",
       "    }\n",
       "\n",
       "    .dataframe thead th {\n",
       "        text-align: right;\n",
       "    }\n",
       "</style>\n",
       "<table border=\"1\" class=\"dataframe\">\n",
       "  <thead>\n",
       "    <tr style=\"text-align: right;\">\n",
       "      <th></th>\n",
       "      <th>Weight</th>\n",
       "    </tr>\n",
       "    <tr>\n",
       "      <th>City</th>\n",
       "      <th></th>\n",
       "    </tr>\n",
       "  </thead>\n",
       "  <tbody>\n",
       "    <tr>\n",
       "      <td>Delhi</td>\n",
       "      <td>9356.287958</td>\n",
       "    </tr>\n",
       "    <tr>\n",
       "      <td>Mumbai</td>\n",
       "      <td>7809.035025</td>\n",
       "    </tr>\n",
       "    <tr>\n",
       "      <td>Kolkata</td>\n",
       "      <td>5722.129724</td>\n",
       "    </tr>\n",
       "    <tr>\n",
       "      <td>Bangalore</td>\n",
       "      <td>4654.047575</td>\n",
       "    </tr>\n",
       "    <tr>\n",
       "      <td>Chennai</td>\n",
       "      <td>3878.579830</td>\n",
       "    </tr>\n",
       "    <tr>\n",
       "      <td>...</td>\n",
       "      <td>...</td>\n",
       "    </tr>\n",
       "    <tr>\n",
       "      <td>Handwara</td>\n",
       "      <td>53.631718</td>\n",
       "    </tr>\n",
       "    <tr>\n",
       "      <td>Ramgundam</td>\n",
       "      <td>52.078320</td>\n",
       "    </tr>\n",
       "    <tr>\n",
       "      <td>Sambalpur</td>\n",
       "      <td>48.939572</td>\n",
       "    </tr>\n",
       "    <tr>\n",
       "      <td>Rampur</td>\n",
       "      <td>44.326932</td>\n",
       "    </tr>\n",
       "    <tr>\n",
       "      <td>Ongole</td>\n",
       "      <td>42.228388</td>\n",
       "    </tr>\n",
       "  </tbody>\n",
       "</table>\n",
       "<p>167 rows × 1 columns</p>\n",
       "</div>"
      ],
      "text/plain": [
       "                Weight\n",
       "City                  \n",
       "Delhi      9356.287958\n",
       "Mumbai     7809.035025\n",
       "Kolkata    5722.129724\n",
       "Bangalore  4654.047575\n",
       "Chennai    3878.579830\n",
       "...                ...\n",
       "Handwara     53.631718\n",
       "Ramgundam    52.078320\n",
       "Sambalpur    48.939572\n",
       "Rampur       44.326932\n",
       "Ongole       42.228388\n",
       "\n",
       "[167 rows x 1 columns]"
      ]
     },
     "execution_count": 6,
     "metadata": {},
     "output_type": "execute_result"
    },
    {
     "data": {
      "image/png": "[encoded data removed]",
      "text/plain": [
       "<Figure size 432x288 with 1 Axes>"
      ]
     },
     "metadata": {
      "needs_background": "light"
     },
     "output_type": "display_data"
    },
    {
     "data": {
      "image/png": "[encoded data removed]",
      "text/plain": [
       "<Figure size 432x288 with 1 Axes>"
      ]
     },
     "metadata": {
      "needs_background": "light"
     },
     "output_type": "display_data"
    }
   ],
   "source": [
    "shipmentsdata['Weight'].hist(bins=20)\n",
    "plt.title('Weight distribution across Shipments')\n",
    "\n",
    "city_display = pd.DataFrame(shipmentsdata.groupby(['City'], as_index=False)['Weight'].sum())\n",
    "city_display.set_index('City',inplace=True)\n",
    "\n",
    "city_display = city_display.sort_values(by='Weight', ascending=False)\n",
    "city_display.head(10).plot(title='Weight distribution across Top 10 cities')\n",
    "plt.xticks(rotation=60, ha='right')\n",
    "\n",
    "\n",
    "\n",
    "city_display"
   ]
  },
  {
   "cell_type": "markdown",
   "metadata": {},
   "source": [
    "## Pre-Processing Dates and Input Shipment Data"
   ]
  },
  {
   "cell_type": "code",
   "execution_count": 7,
   "metadata": {},
   "outputs": [
    {
     "name": "stderr",
     "output_type": "stream",
     "text": [
      "C:\\Users\\hemu1\\Anaconda3\\lib\\site-packages\\ipykernel_launcher.py:11: SettingWithCopyWarning: \n",
      "A value is trying to be set on a copy of a slice from a DataFrame\n",
      "\n",
      "See the caveats in the documentation: http://pandas.pydata.org/pandas-docs/stable/user_guide/indexing.html#returning-a-view-versus-a-copy\n",
      "  # This is added back by InteractiveShellApp.init_path()\n",
      "C:\\Users\\hemu1\\Anaconda3\\lib\\site-packages\\ipykernel_launcher.py:13: SettingWithCopyWarning: \n",
      "A value is trying to be set on a copy of a slice from a DataFrame\n",
      "\n",
      "See the caveats in the documentation: http://pandas.pydata.org/pandas-docs/stable/user_guide/indexing.html#returning-a-view-versus-a-copy\n",
      "  del sys.path[0]\n",
      "C:\\Users\\hemu1\\Anaconda3\\lib\\site-packages\\IPython\\core\\interactiveshell.py:3326: SettingWithCopyWarning: \n",
      "A value is trying to be set on a copy of a slice from a DataFrame\n",
      "\n",
      "See the caveats in the documentation: http://pandas.pydata.org/pandas-docs/stable/user_guide/indexing.html#returning-a-view-versus-a-copy\n",
      "  exec(code_obj, self.user_global_ns, self.user_ns)\n"
     ]
    }
   ],
   "source": [
    "dda = pd.DataFrame(shipmentsdata.groupby(['Date','City','Latitude','Longitude'], as_index=False)['Weight'].sum())\n",
    "shipmentsdata.tail(20)\n",
    "\n",
    "job_status = 0\n",
    "\n",
    "for i in range(len(dda)):\n",
    "    if dda['Weight'][i] > max_truck_capacity:\n",
    "        remainder = dda['Weight'][i]%max_truck_capacity\n",
    "        no_of_splits = int(dda['Weight'][i]/max_truck_capacity - remainder/max_truck_capacity)\n",
    "        #print(dda['Weight'][i],no_of_splits,remainder)\n",
    "        dda['Weight'][i] = remainder\n",
    "        gg = dda[dda.index == i]\n",
    "        gg['Weight'][i]= max_truck_capacity\n",
    "        for j in range(no_of_splits):\n",
    "            dda = dda.append(gg,ignore_index=True)\n",
    "\n",
    "shipmentsdata_new = pd.DataFrame(dda)\n",
    "shipmentsdata_new['Date'] = pd.to_datetime(shipmentsdata_new['Date'], format='%d-%m-%Y')\n",
    "\n",
    "source_Latitude_list = np.array(shipmentsdata['Latitude'])\n",
    "source_Longitude_list = np.array(shipmentsdata['Longitude'])\n",
    "weights_list = np.array(shipmentsdata['Weight'])\n",
    "source_dates = np.array(shipmentsdata['Date'])\n",
    "#print(source_dates)\n",
    "\n",
    "#for i in range(len(source_dates)):\n",
    "#    source_dates[i] = datetime.strptime(source_dates[i],'%d-%m-%Y')\n",
    "#print(source_dates)\n",
    "delta = timedelta(days=1)\n",
    "\n",
    "#print(max(source_dates))\n",
    "#max(source_dates)+ delta\n",
    "\n",
    "no_of_days = int((max(shipmentsdata_new['Date'])-min(shipmentsdata_new['Date'])).days+1)\n",
    "\n",
    "#print(shipmentsdata_new['Date'][3]>=max(source_dates))\n",
    "\n",
    "#len(shipmentsdata_new)"
   ]
  },
  {
   "cell_type": "markdown",
   "metadata": {},
   "source": [
    "## Hub Location and Planning Horizon"
   ]
  },
  {
   "cell_type": "code",
   "execution_count": 8,
   "metadata": {
    "scrolled": false
   },
   "outputs": [
    {
     "data": {
      "text/plain": [
       "<matplotlib.collections.PathCollection at 0x2a496a04d08>"
      ]
     },
     "execution_count": 8,
     "metadata": {},
     "output_type": "execute_result"
    },
    {
     "data": {
      "image/png": "[encoded data removed]",
      "text/plain": [
       "<Figure size 432x288 with 1 Axes>"
      ]
     },
     "metadata": {
      "needs_background": "light"
     },
     "output_type": "display_data"
    }
   ],
   "source": [
    "source_coordinates = [19,73]\n",
    "planning_horizon = 1      # Enter the no. of days you want to plan together, only intergers >=1\n",
    "\n",
    "plt.scatter(shipmentsdata_new['Longitude'],shipmentsdata_new['Latitude'] ,marker='o', s = 15)\n",
    "plt.scatter(source_coordinates[1],source_coordinates[0], marker = '^', s = 500)"
   ]
  },
  {
   "cell_type": "markdown",
   "metadata": {},
   "source": [
    "## Running the Simulation"
   ]
  },
  {
   "cell_type": "code",
   "execution_count": 9,
   "metadata": {
    "scrolled": false
   },
   "outputs": [
    {
     "name": "stdout",
     "output_type": "stream",
     "text": [
      "___Result :- \n",
      "\n",
      "Estimated Cost with no Vehicle Routing: 225466437.0\n",
      "Estimated Cost with Vehicle Routing: 191987691.0 \n",
      "\n",
      "Estimated Cost Savings with Vehicle Routing: 14.8 % \n",
      "\n",
      "No. of Trucks with no VR: 8830\n",
      "No. of Trucks with VR: 6910\n"
     ]
    },
    {
     "data": {
      "text/plain": [
       "<matplotlib.axes._subplots.AxesSubplot at 0x2a4968b37c8>"
      ]
     },
     "execution_count": 9,
     "metadata": {},
     "output_type": "execute_result"
    },
    {
     "data": {
      "image/png": "[encoded data removed]",
      "text/plain": [
       "<Figure size 432x288 with 1 Axes>"
      ]
     },
     "metadata": {
      "needs_background": "light"
     },
     "output_type": "display_data"
    },
    {
     "data": {
      "image/png": "[encoded data removed]",
      "text/plain": [
       "<Figure size 432x288 with 1 Axes>"
      ]
     },
     "metadata": {
      "needs_background": "light"
     },
     "output_type": "display_data"
    }
   ],
   "source": [
    "result_matrix = []\n",
    "truck_type_total_count_VR = []\n",
    "for p in range(len(Truck_list)):\n",
    "    truck_type_total_count_VR.append(0)\n",
    "\n",
    "truck_type_total_count_noVR = []\n",
    "for p in range(len(Truck_list)):\n",
    "    truck_type_total_count_noVR.append(0)\n",
    "\n",
    "truck_type_total_count_VR = np.array(truck_type_total_count_VR)\n",
    "truck_type_total_count_noVR = np.array(truck_type_total_count_noVR)\n",
    "\n",
    "\n",
    "for j in range(0,no_of_days,planning_horizon):\n",
    "    \n",
    "    clear_output(wait=True)\n",
    "    print(\"____Simulation Progress :\",round(100*j/no_of_days,1),\"%\")\n",
    "    weights_temp = []\n",
    "    locations_temp = [[source_coordinates[0],source_coordinates[1]]]\n",
    "    range_start = min(shipmentsdata_new['Date'])+j*delta\n",
    "    range_end = min(shipmentsdata_new['Date'])+(j+planning_horizon)*delta\n",
    "    \n",
    "    rslt_df = shipmentsdata_new[shipmentsdata_new['Date'] >= range_start]\n",
    "    rslt_df = rslt_df[rslt_df['Date'] < range_end]\n",
    "    #print(rslt_df.iloc[0,'Latitude'])\n",
    "    \n",
    "    \n",
    "    for i in range(len(rslt_df)):\n",
    "        locations_temp.append([rslt_df.iloc[i]['Latitude'],rslt_df.iloc[i]['Longitude']])\n",
    "        weights_temp.append(rslt_df.iloc[i]['Weight'])\n",
    "    if len(locations_temp)>1:\n",
    "        result_output_vr = CW_truck_assignment(locations_temp,weights_temp,True)\n",
    "        result_output_no_vr = CW_truck_assignment(locations_temp,weights_temp,False)\n",
    "        result_matrix.append([range_start,result_output_vr[0],result_output_no_vr[0]])\n",
    "        truck_type_total_count_VR = np.add(truck_type_total_count_VR, np.array(result_output_vr[2]))\n",
    "        truck_type_total_count_noVR = np.add(truck_type_total_count_noVR, np.array(result_output_no_vr[2]))\n",
    "    \n",
    "clear_output(wait=True)\n",
    "result_matrix\n",
    "\n",
    "df = pd.DataFrame(result_matrix, columns=['Date', 'Cost_with_VR', 'Cost_with_no_VR'])\n",
    "df = df.set_index('Date')\n",
    "\n",
    "Truck_list_table = pd.DataFrame(Truck_list, columns=['Name','Capacity in Tonne','A','n'])\n",
    "Truck_list_table.drop(['A','n'],1)\n",
    "Truck_list_table['Truck count VR'] = pd.Series(truck_type_total_count_VR)\n",
    "Truck_list_table['Truck count no VR'] = pd.Series(truck_type_total_count_noVR)\n",
    "\n",
    "\n",
    "print(\"___Result :-\",'\\n')\n",
    "print(\"Estimated Cost with no Vehicle Routing:\",round(sum(df['Cost_with_no_VR']),0))\n",
    "print(\"Estimated Cost with Vehicle Routing:\",round(sum(df['Cost_with_VR']),0),'\\n')\n",
    "#print('\\n')\n",
    "print(\"Estimated Cost Savings with Vehicle Routing:\",round((sum(df['Cost_with_no_VR'])-sum(df['Cost_with_VR']))*100/sum(df['Cost_with_no_VR']),1),\"%\",'\\n')\n",
    "print(\"No. of Trucks with no VR:\",sum(Truck_list_table['Truck count no VR']))\n",
    "print(\"No. of Trucks with VR:\",sum(Truck_list_table['Truck count VR']))\n",
    "\n",
    "df.resample('M').sum().plot().axis([None, None, 0, None])\n",
    "Truck_list_table.plot.bar(x='Capacity in Tonne')"
   ]
  },
  {
   "cell_type": "code",
   "execution_count": null,
   "metadata": {},
   "outputs": [],
   "source": []
  },
  {
   "cell_type": "code",
   "execution_count": null,
   "metadata": {},
   "outputs": [],
   "source": []
  },
  {
   "cell_type": "code",
   "execution_count": null,
   "metadata": {},
   "outputs": [],
   "source": []
  }
 ],
 "metadata": {
  "kernelspec": {
   "display_name": "Python 3",
   "language": "python",
   "name": "python3"
  },
  "language_info": {
   "codemirror_mode": {
    "name": "ipython",
    "version": 3
   },
   "file_extension": ".py",
   "mimetype": "text/x-python",
   "name": "python",
   "nbconvert_exporter": "python",
   "pygments_lexer": "ipython3",
   "version": "3.7.4"
  }
 },
 "nbformat": 4,
 "nbformat_minor": 2
}
